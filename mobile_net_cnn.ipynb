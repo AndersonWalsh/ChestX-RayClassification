{
 "cells": [
  {
   "cell_type": "code",
   "execution_count": 1,
   "id": "4e5276f2",
   "metadata": {},
   "outputs": [
    {
     "data": {
      "text/plain": [
       "'!pip install kaggle --quiet\\n\\nimport os\\nos.environ[\\'KAGGLE_CONFIG_DIR\\'] = \"~/.kaggle\"  # Update this path if needed\\n\\n# I had to do this because it wasn\\'t seeing my kaggle.json\\nos.environ[\\'KAGGLE_USERNAME\\'] = \\'\\'\\nos.environ[\\'KAGGLE_KEY\\'] = \\'\\'\\n\\n!kaggle competitions download -c rsna-pneumonia-detection-challenge\\n\\nimport zipfile\\nwith zipfile.ZipFile(\\'rsna-pneumonia-detection-challenge.zip\\', \\'r\\') as zip_ref:\\n    zip_ref.extractall(\\'rsna_data\\')\\n\\nimport os\\nos.listdir(\\'rsna_data\\')'"
      ]
     },
     "execution_count": 1,
     "metadata": {},
     "output_type": "execute_result"
    }
   ],
   "source": [
    "'''!pip install kaggle --quiet\n",
    "\n",
    "import os\n",
    "os.environ['KAGGLE_CONFIG_DIR'] = \"~/.kaggle\"  # Update this path if needed\n",
    "\n",
    "# I had to do this because it wasn't seeing my kaggle.json\n",
    "os.environ['KAGGLE_USERNAME'] = ''\n",
    "os.environ['KAGGLE_KEY'] = ''\n",
    "\n",
    "!kaggle competitions download -c rsna-pneumonia-detection-challenge\n",
    "\n",
    "import zipfile\n",
    "with zipfile.ZipFile('rsna-pneumonia-detection-challenge.zip', 'r') as zip_ref:\n",
    "    zip_ref.extractall('rsna_data')\n",
    "\n",
    "import os\n",
    "os.listdir('rsna_data')'''"
   ]
  },
  {
   "cell_type": "code",
   "execution_count": 2,
   "id": "3787cc64",
   "metadata": {},
   "outputs": [
    {
     "name": "stderr",
     "output_type": "stream",
     "text": [
      "2025-05-11 23:01:25.732774: I tensorflow/core/util/port.cc:153] oneDNN custom operations are on. You may see slightly different numerical results due to floating-point round-off errors from different computation orders. To turn them off, set the environment variable `TF_ENABLE_ONEDNN_OPTS=0`.\n",
      "2025-05-11 23:01:25.841810: E external/local_xla/xla/stream_executor/cuda/cuda_fft.cc:477] Unable to register cuFFT factory: Attempting to register factory for plugin cuFFT when one has already been registered\n",
      "WARNING: All log messages before absl::InitializeLog() is called are written to STDERR\n",
      "E0000 00:00:1747018885.894173   80685 cuda_dnn.cc:8310] Unable to register cuDNN factory: Attempting to register factory for plugin cuDNN when one has already been registered\n",
      "E0000 00:00:1747018885.909544   80685 cuda_blas.cc:1418] Unable to register cuBLAS factory: Attempting to register factory for plugin cuBLAS when one has already been registered\n",
      "2025-05-11 23:01:26.010730: I tensorflow/core/platform/cpu_feature_guard.cc:210] This TensorFlow binary is optimized to use available CPU instructions in performance-critical operations.\n",
      "To enable the following instructions: AVX2 AVX_VNNI FMA, in other operations, rebuild TensorFlow with the appropriate compiler flags.\n"
     ]
    }
   ],
   "source": [
    "import os\n",
    "import numpy as np\n",
    "import pandas as pd\n",
    "import pydicom\n",
    "from sklearn.model_selection import train_test_split\n",
    "import tensorflow as tf\n",
    "from tensorflow.keras.preprocessing.image import ImageDataGenerator\n",
    "from tensorflow.keras.applications import MobileNetV2\n",
    "from tensorflow.keras.applications import DenseNet121 \n",
    "from tensorflow.keras.applications import ResNet50 \n",
    "from tensorflow.keras import layers, models\n",
    "import cv2\n",
    "\n",
    "data_dir = '../brain-tumor-classification/rsna_data/stage_2_train_images'\n",
    "labels_df = pd.read_csv('../brain-tumor-classification/rsna_data/stage_2_train_labels.csv')\n",
    "\n",
    "def load_dicom_image(image_path):\n",
    "    dicom_data = pydicom.dcmread(image_path)\n",
    "    \n",
    "    image = dicom_data.pixel_array\n",
    "    \n",
    "    if len(image.shape) == 2:\n",
    "        image = np.stack([image] * 3, axis=-1)  # Convert grayscale to RGB\n",
    "    \n",
    "    image = cv2.resize(image, (224, 224))\n",
    "    \n",
    "    image = image / 255.0\n",
    "    \n",
    "    image = (image * 255).astype(np.uint8)\n",
    "    \n",
    "    return image\n",
    "\n",
    "images = []\n",
    "labels = []\n",
    "for idx, row in labels_df.iterrows():\n",
    "    image_path = os.path.join(data_dir, f'{row[\"patientId\"]}.dcm')\n",
    "    images.append(load_dicom_image(image_path))\n",
    "    labels.append(row[\"Target\"])\n",
    "\n",
    "images = np.array(images)\n",
    "labels = np.array(labels)\n"
   ]
  },
  {
   "cell_type": "code",
   "execution_count": null,
   "id": "165bb043",
   "metadata": {},
   "outputs": [],
   "source": [
    "\n",
    "X_train, X_val, y_train, y_val = train_test_split(images, labels, test_size=0.1, random_state=42)\n",
    "\n",
    "'''\n",
    "rescale=1./255,\n",
    "shear_range=0.2,\n",
    "zoom_range=0.2,\n",
    "horizontal_flip=True\n",
    "'''\n",
    "train_datagen = ImageDataGenerator(\n",
    "\t   \n",
    "    rescale=1./255,\n",
    "    shear_range=0.2,\n",
    "    zoom_range=0.2,\n",
    "    horizontal_flip=True,\n",
    "    rotation_range=30,\n",
    "    width_shift_range=0.2,\n",
    "    height_shift_range=0.2,\n",
    "    brightness_range=[0.8, 1.2],\n",
    "    fill_mode='nearest'\n",
    ")\n",
    "train_datagen = ImageDataGenerator(rescale=1./255)\n",
    "\n",
    "val_datagen = ImageDataGenerator(rescale=1./255)\n",
    "\n",
    "train_generator = train_datagen.flow(X_train, y_train, batch_size=32)\n",
    "validation_generator = val_datagen.flow(X_val, y_val, batch_size=32)\n"
   ]
  },
  {
   "cell_type": "code",
   "execution_count": null,
   "id": "f988b855",
   "metadata": {},
   "outputs": [
    {
     "name": "stderr",
     "output_type": "stream",
     "text": [
      "I0000 00:00:1747019013.600210   80685 gpu_device.cc:2022] Created device /job:localhost/replica:0/task:0/device:GPU:0 with 21458 MB memory:  -> device: 0, name: NVIDIA GeForce RTX 4090, pci bus id: 0000:01:00.0, compute capability: 8.9\n",
      "/home/anderson_walsh/UTK/COSC523Project2/nlp/lib/python3.10/site-packages/keras/src/layers/activations/leaky_relu.py:41: UserWarning: Argument `alpha` is deprecated. Use `negative_slope` instead.\n",
      "  warnings.warn(\n"
     ]
    }
   ],
   "source": [
    "from tensorflow.keras.layers import LeakyReLU\n",
    "from tensorflow.keras.models import Model\n",
    "from tensorflow.keras.layers import GlobalAveragePooling2D, Dense, Dropout, BatchNormalization\n",
    "from tensorflow.keras.layers import Input\n",
    "inputs = Input(shape=(224, 224, 3))\n",
    "\n",
    "\n",
    "x = inputs\n",
    "base_model = MobileNetV2(weights='imagenet', include_top=False, input_shape=(224, 224, 3))\n",
    "\n",
    "base_model.trainable = False\n",
    "x = base_model(x, training=False)\n",
    "\n",
    "# Custom classification head\n",
    "'''\n",
    "x = GlobalAveragePooling2D()(x)\n",
    "x = Dense(1024, activation='relu')(x)\n",
    "x = Dropout(0.5)(x)\n",
    "x = Dense(512, activation='relu')(x)\n",
    "x = Dropout(0.3)(x)\n",
    "x = Dense(256, activation='relu')(x)\n",
    "x = Dropout(0.2)(x)\n",
    "outputs = Dense(1, activation='sigmoid')(x)\n",
    "'''\n",
    "x = GlobalAveragePooling2D()(x)\n",
    "x = Dense(2048)(x)\n",
    "x = BatchNormalization()(x)\n",
    "x = LeakyReLU(alpha=0.2)(x)\n",
    "x = Dropout(0.5)(x)\n",
    "x = Dense(1024)(x)\n",
    "x = BatchNormalization()(x)\n",
    "x = LeakyReLU(alpha=0.2)(x)\n",
    "x = Dropout(0.3)(x)\n",
    "x = Dense(512)(x)\n",
    "x = BatchNormalization()(x)\n",
    "x = LeakyReLU(alpha=0.2)(x)\n",
    "x = Dropout(0.2)(x)\n",
    "outputs = Dense(1, activation='sigmoid')(x)\n",
    "\n",
    "\n",
    "model = Model(inputs, outputs)\n"
   ]
  },
  {
   "cell_type": "code",
   "execution_count": 5,
   "id": "1a674e29",
   "metadata": {},
   "outputs": [],
   "source": [
    "\n",
    "from tensorflow.keras.optimizers import Adam\n",
    "model.compile(\n",
    "    optimizer=Adam(learning_rate=1e-4),\n",
    "    loss='binary_crossentropy',\n",
    "\tmetrics=['accuracy']\n",
    ")"
   ]
  },
  {
   "cell_type": "code",
   "execution_count": 6,
   "id": "342cbb99",
   "metadata": {},
   "outputs": [
    {
     "name": "stderr",
     "output_type": "stream",
     "text": [
      "/home/anderson_walsh/UTK/COSC523Project2/nlp/lib/python3.10/site-packages/keras/src/trainers/data_adapters/py_dataset_adapter.py:121: UserWarning: Your `PyDataset` class should call `super().__init__(**kwargs)` in its constructor. `**kwargs` can include `workers`, `use_multiprocessing`, `max_queue_size`. Do not pass these arguments to `fit()`, as they will be ignored.\n",
      "  self._warn_if_super_not_called()\n"
     ]
    },
    {
     "name": "stdout",
     "output_type": "stream",
     "text": [
      "Epoch 1/50\n"
     ]
    },
    {
     "name": "stderr",
     "output_type": "stream",
     "text": [
      "WARNING: All log messages before absl::InitializeLog() is called are written to STDERR\n",
      "I0000 00:00:1747019020.418780   81325 service.cc:148] XLA service 0x7efd4c002020 initialized for platform CUDA (this does not guarantee that XLA will be used). Devices:\n",
      "I0000 00:00:1747019020.418811   81325 service.cc:156]   StreamExecutor device (0): NVIDIA GeForce RTX 4090, Compute Capability 8.9\n",
      "2025-05-11 23:03:40.509783: I tensorflow/compiler/mlir/tensorflow/utils/dump_mlir_util.cc:268] disabling MLIR crash reproducer, set env var `MLIR_CRASH_REPRODUCER_DIRECTORY` to enable.\n",
      "I0000 00:00:1747019020.931719   81325 cuda_dnn.cc:529] Loaded cuDNN version 90300\n",
      "2025-05-11 23:03:41.641636: I external/local_xla/xla/stream_executor/cuda/cuda_asm_compiler.cc:397] ptxas warning : Registers are spilled to local memory in function 'gemm_fusion_dot_2431_0', 56 bytes spill stores, 56 bytes spill loads\n",
      "\n",
      "2025-05-11 23:03:41.671815: I external/local_xla/xla/stream_executor/cuda/cuda_asm_compiler.cc:397] ptxas warning : Registers are spilled to local memory in function 'gemm_fusion_dot_2431', 16 bytes spill stores, 16 bytes spill loads\n",
      "\n",
      "2025-05-11 23:03:41.855840: I external/local_xla/xla/stream_executor/cuda/cuda_asm_compiler.cc:397] ptxas warning : Registers are spilled to local memory in function 'gemm_fusion_dot_8326', 60 bytes spill stores, 64 bytes spill loads\n",
      "\n",
      "2025-05-11 23:03:41.867066: I external/local_xla/xla/stream_executor/cuda/cuda_asm_compiler.cc:397] ptxas warning : Registers are spilled to local memory in function 'gemm_fusion_dot_8326', 24 bytes spill stores, 24 bytes spill loads\n",
      "\n",
      "2025-05-11 23:03:41.874719: I external/local_xla/xla/stream_executor/cuda/cuda_asm_compiler.cc:397] ptxas warning : Registers are spilled to local memory in function 'gemm_fusion_dot_8326', 68 bytes spill stores, 72 bytes spill loads\n",
      "\n",
      "2025-05-11 23:03:41.955294: I external/local_xla/xla/stream_executor/cuda/cuda_asm_compiler.cc:397] ptxas warning : Registers are spilled to local memory in function 'gemm_fusion_dot_2431', 228 bytes spill stores, 228 bytes spill loads\n",
      "\n",
      "2025-05-11 23:09:53.521570: E external/local_xla/xla/service/slow_operation_alarm.cc:65] Trying algorithm eng5{} for conv (f32[32,32,112,112]{3,2,1,0}, u8[0]{0}) custom-call(f32[32,32,112,112]{3,2,1,0}, f32[32,1,3,3]{3,2,1,0}), window={size=3x3 pad=1_1x1_1}, dim_labels=bf01_oi01->bf01, feature_group_count=32, custom_call_target=\"__cudnn$convForward\", backend_config={\"cudnn_conv_backend_config\":{\"activation_mode\":\"kNone\",\"conv_result_scale\":1,\"leakyrelu_alpha\":0,\"side_input_scale\":0},\"force_earliest_schedule\":false,\"operation_queue_id\":\"0\",\"wait_on_operation_queues\":[]} is taking a while...\n",
      "2025-05-11 23:09:53.522384: E external/local_xla/xla/service/slow_operation_alarm.cc:133] The operation took 6m10.920318789s\n",
      "Trying algorithm eng5{} for conv (f32[32,32,112,112]{3,2,1,0}, u8[0]{0}) custom-call(f32[32,32,112,112]{3,2,1,0}, f32[32,1,3,3]{3,2,1,0}), window={size=3x3 pad=1_1x1_1}, dim_labels=bf01_oi01->bf01, feature_group_count=32, custom_call_target=\"__cudnn$convForward\", backend_config={\"cudnn_conv_backend_config\":{\"activation_mode\":\"kNone\",\"conv_result_scale\":1,\"leakyrelu_alpha\":0,\"side_input_scale\":0},\"force_earliest_schedule\":false,\"operation_queue_id\":\"0\",\"wait_on_operation_queues\":[]} is taking a while...\n"
     ]
    },
    {
     "name": "stdout",
     "output_type": "stream",
     "text": [
      "\u001b[1m  6/851\u001b[0m \u001b[37m━━━━━━━━━━━━━━━━━━━━\u001b[0m \u001b[1m29s\u001b[0m 34ms/step - accuracy: 0.4946 - loss: 0.8306"
     ]
    },
    {
     "name": "stderr",
     "output_type": "stream",
     "text": [
      "I0000 00:00:1747019025.182871   81325 device_compiler.h:188] Compiled cluster using XLA!  This line is logged at most once for the lifetime of the process.\n"
     ]
    },
    {
     "name": "stdout",
     "output_type": "stream",
     "text": [
      "\u001b[1m757/851\u001b[0m \u001b[32m━━━━━━━━━━━━━━━━━\u001b[0m\u001b[37m━━━\u001b[0m \u001b[1m48s\u001b[0m 520ms/step - accuracy: 0.7370 - loss: 0.5543 "
     ]
    },
    {
     "name": "stderr",
     "output_type": "stream",
     "text": [
      "2025-05-11 23:10:23.552323: E external/local_xla/xla/service/slow_operation_alarm.cc:65] Trying algorithm eng3{k11=0} for conv (f32[15,144,56,56]{3,2,1,0}, u8[0]{0}) custom-call(f32[15,24,56,56]{3,2,1,0}, f32[144,24,1,1]{3,2,1,0}), window={size=1x1}, dim_labels=bf01_oi01->bf01, custom_call_target=\"__cudnn$convForward\", backend_config={\"cudnn_conv_backend_config\":{\"activation_mode\":\"kNone\",\"conv_result_scale\":1,\"leakyrelu_alpha\":0,\"side_input_scale\":0},\"force_earliest_schedule\":false,\"operation_queue_id\":\"0\",\"wait_on_operation_queues\":[]} is taking a while...\n",
      "2025-05-11 23:10:23.558806: E external/local_xla/xla/service/slow_operation_alarm.cc:133] The operation took 6m10.918931921s\n",
      "Trying algorithm eng3{k11=0} for conv (f32[15,144,56,56]{3,2,1,0}, u8[0]{0}) custom-call(f32[15,24,56,56]{3,2,1,0}, f32[144,24,1,1]{3,2,1,0}), window={size=1x1}, dim_labels=bf01_oi01->bf01, custom_call_target=\"__cudnn$convForward\", backend_config={\"cudnn_conv_backend_config\":{\"activation_mode\":\"kNone\",\"conv_result_scale\":1,\"leakyrelu_alpha\":0,\"side_input_scale\":0},\"force_earliest_schedule\":false,\"operation_queue_id\":\"0\",\"wait_on_operation_queues\":[]} is taking a while...\n"
     ]
    },
    {
     "name": "stdout",
     "output_type": "stream",
     "text": [
      "\u001b[1m851/851\u001b[0m \u001b[32m━━━━━━━━━━━━━━━━━━━━\u001b[0m\u001b[37m\u001b[0m \u001b[1m36s\u001b[0m 34ms/step - accuracy: 0.7399 - loss: 0.5483 - val_accuracy: 0.7880 - val_loss: 0.4461\n",
      "Epoch 2/50\n",
      "\u001b[1m851/851\u001b[0m \u001b[32m━━━━━━━━━━━━━━━━━━━━\u001b[0m\u001b[37m\u001b[0m \u001b[1m7s\u001b[0m 8ms/step - accuracy: 0.7892 - loss: 0.4497 - val_accuracy: 0.8048 - val_loss: 0.4187\n",
      "Epoch 3/50\n",
      "\u001b[1m851/851\u001b[0m \u001b[32m━━━━━━━━━━━━━━━━━━━━\u001b[0m\u001b[37m\u001b[0m \u001b[1m7s\u001b[0m 8ms/step - accuracy: 0.7999 - loss: 0.4267 - val_accuracy: 0.7959 - val_loss: 0.4252\n",
      "Epoch 4/50\n",
      "\u001b[1m851/851\u001b[0m \u001b[32m━━━━━━━━━━━━━━━━━━━━\u001b[0m\u001b[37m\u001b[0m \u001b[1m7s\u001b[0m 8ms/step - accuracy: 0.8073 - loss: 0.4127 - val_accuracy: 0.8108 - val_loss: 0.4138\n",
      "Epoch 5/50\n",
      "\u001b[1m851/851\u001b[0m \u001b[32m━━━━━━━━━━━━━━━━━━━━\u001b[0m\u001b[37m\u001b[0m \u001b[1m7s\u001b[0m 8ms/step - accuracy: 0.8206 - loss: 0.3943 - val_accuracy: 0.8111 - val_loss: 0.4078\n",
      "Epoch 6/50\n",
      "\u001b[1m851/851\u001b[0m \u001b[32m━━━━━━━━━━━━━━━━━━━━\u001b[0m\u001b[37m\u001b[0m \u001b[1m7s\u001b[0m 8ms/step - accuracy: 0.8235 - loss: 0.3905 - val_accuracy: 0.8091 - val_loss: 0.4048\n",
      "Epoch 7/50\n",
      "\u001b[1m851/851\u001b[0m \u001b[32m━━━━━━━━━━━━━━━━━━━━\u001b[0m\u001b[37m\u001b[0m \u001b[1m7s\u001b[0m 8ms/step - accuracy: 0.8285 - loss: 0.3746 - val_accuracy: 0.8157 - val_loss: 0.4075\n",
      "Epoch 8/50\n",
      "\u001b[1m851/851\u001b[0m \u001b[32m━━━━━━━━━━━━━━━━━━━━\u001b[0m\u001b[37m\u001b[0m \u001b[1m7s\u001b[0m 8ms/step - accuracy: 0.8338 - loss: 0.3691 - val_accuracy: 0.8154 - val_loss: 0.4036\n",
      "Epoch 9/50\n",
      "\u001b[1m851/851\u001b[0m \u001b[32m━━━━━━━━━━━━━━━━━━━━\u001b[0m\u001b[37m\u001b[0m \u001b[1m7s\u001b[0m 8ms/step - accuracy: 0.8372 - loss: 0.3610 - val_accuracy: 0.8045 - val_loss: 0.4199\n",
      "Epoch 10/50\n",
      "\u001b[1m851/851\u001b[0m \u001b[32m━━━━━━━━━━━━━━━━━━━━\u001b[0m\u001b[37m\u001b[0m \u001b[1m7s\u001b[0m 8ms/step - accuracy: 0.8449 - loss: 0.3485 - val_accuracy: 0.8138 - val_loss: 0.3974\n",
      "Epoch 11/50\n",
      "\u001b[1m851/851\u001b[0m \u001b[32m━━━━━━━━━━━━━━━━━━━━\u001b[0m\u001b[37m\u001b[0m \u001b[1m7s\u001b[0m 8ms/step - accuracy: 0.8523 - loss: 0.3335 - val_accuracy: 0.8131 - val_loss: 0.4065\n",
      "Epoch 12/50\n",
      "\u001b[1m851/851\u001b[0m \u001b[32m━━━━━━━━━━━━━━━━━━━━\u001b[0m\u001b[37m\u001b[0m \u001b[1m7s\u001b[0m 8ms/step - accuracy: 0.8584 - loss: 0.3212 - val_accuracy: 0.8111 - val_loss: 0.4215\n"
     ]
    }
   ],
   "source": [
    "from tensorflow.keras import callbacks\n",
    "# --- TRAINING ---\n",
    "early_stop = callbacks.EarlyStopping(patience=5, restore_best_weights=True, min_delta=0.001, monitor='val_accuracy', mode='max')\n",
    "reduce_lr = callbacks.ReduceLROnPlateau(patience=3, factor=0.5, verbose=1)\n",
    "history = model.fit(\n",
    "    train_generator,\n",
    "    validation_data=validation_generator,\n",
    "    epochs=50,\n",
    "    callbacks=[early_stop]\n",
    ")"
   ]
  },
  {
   "cell_type": "code",
   "execution_count": null,
   "id": "5354b010",
   "metadata": {},
   "outputs": [],
   "source": [
    "model.save(\"cnn_chest_pretune_resnet.keras\")\n",
    "from tensorflow.keras.models import load_model\n",
    "#model = load_model(\"cnn_chest_pretune.keras\")\n",
    "#base_model.trainable = True\n",
    "for layer in base_model.layers[-30:]:\n",
    "   layer.trainable = True"
   ]
  },
  {
   "cell_type": "code",
   "execution_count": 8,
   "id": "531dfd33",
   "metadata": {},
   "outputs": [],
   "source": [
    "classifier_head_weights = [layer.get_weights() for layer in model.layers[-16:]]\n"
   ]
  },
  {
   "cell_type": "code",
   "execution_count": null,
   "id": "be972a52",
   "metadata": {},
   "outputs": [],
   "source": [
    "model.compile(\n",
    "    optimizer=tf.keras.optimizers.Adam(learning_rate=1e-5),\n",
    "    loss='binary_crossentropy',\n",
    "\tmetrics=['accuracy']\n",
    ")"
   ]
  },
  {
   "cell_type": "code",
   "execution_count": 10,
   "id": "54eceeec",
   "metadata": {},
   "outputs": [],
   "source": [
    "\n",
    "for i, layer in enumerate(model.layers[-16:]):\n",
    "    layer.set_weights(classifier_head_weights[i])\n"
   ]
  },
  {
   "cell_type": "code",
   "execution_count": 11,
   "id": "51c252bb",
   "metadata": {},
   "outputs": [
    {
     "name": "stdout",
     "output_type": "stream",
     "text": [
      "Epoch 1/50\n"
     ]
    },
    {
     "name": "stderr",
     "output_type": "stream",
     "text": [
      "2025-05-11 23:05:34.769474: I external/local_xla/xla/stream_executor/cuda/cuda_asm_compiler.cc:397] ptxas warning : Registers are spilled to local memory in function 'gemm_fusion_dot_8326', 60 bytes spill stores, 180 bytes spill loads\n",
      "\n"
     ]
    },
    {
     "name": "stdout",
     "output_type": "stream",
     "text": [
      "\u001b[1m562/851\u001b[0m \u001b[32m━━━━━━━━━━━━━\u001b[0m\u001b[37m━━━━━━━\u001b[0m \u001b[1m2s\u001b[0m 9ms/step - accuracy: 0.7671 - loss: 0.5028  "
     ]
    },
    {
     "name": "stderr",
     "output_type": "stream",
     "text": [
      "2025-05-11 23:05:43.584132: I external/local_xla/xla/stream_executor/cuda/cuda_asm_compiler.cc:397] ptxas warning : Registers are spilled to local memory in function 'gemm_fusion_dot_8326', 4 bytes spill stores, 4 bytes spill loads\n",
      "\n",
      "2025-05-11 23:11:56.522779: E external/local_xla/xla/service/slow_operation_alarm.cc:65] \n",
      "********************************\n",
      "[Compiling module a_inference_one_step_on_data_63894__.12027] Very slow compile? If you want to file a bug, run with envvar XLA_FLAGS=--xla_dump_to=/tmp/foo and attach the results.\n",
      "********************************\n"
     ]
    },
    {
     "name": "stdout",
     "output_type": "stream",
     "text": [
      "\u001b[1m851/851\u001b[0m \u001b[32m━━━━━━━━━━━━━━━━━━━━\u001b[0m\u001b[37m\u001b[0m \u001b[1m22s\u001b[0m -420282us/step - accuracy: 0.7737 - loss: 0.4875 - val_accuracy: 0.7853 - val_loss: 0.4624 - learning_rate: 1.0000e-05\n",
      "Epoch 2/50\n",
      "\u001b[1m851/851\u001b[0m \u001b[32m━━━━━━━━━━━━━━━━━━━━\u001b[0m\u001b[37m\u001b[0m \u001b[1m8s\u001b[0m 9ms/step - accuracy: 0.8213 - loss: 0.3984 - val_accuracy: 0.8068 - val_loss: 0.4198 - learning_rate: 1.0000e-05\n",
      "Epoch 3/50\n",
      "\u001b[1m851/851\u001b[0m \u001b[32m━━━━━━━━━━━━━━━━━━━━\u001b[0m\u001b[37m\u001b[0m \u001b[1m8s\u001b[0m 10ms/step - accuracy: 0.8358 - loss: 0.3669 - val_accuracy: 0.8227 - val_loss: 0.3916 - learning_rate: 1.0000e-05\n",
      "Epoch 4/50\n",
      "\u001b[1m851/851\u001b[0m \u001b[32m━━━━━━━━━━━━━━━━━━━━\u001b[0m\u001b[37m\u001b[0m \u001b[1m8s\u001b[0m 9ms/step - accuracy: 0.8534 - loss: 0.3340 - val_accuracy: 0.8267 - val_loss: 0.3943 - learning_rate: 1.0000e-05\n",
      "Epoch 5/50\n",
      "\u001b[1m851/851\u001b[0m \u001b[32m━━━━━━━━━━━━━━━━━━━━\u001b[0m\u001b[37m\u001b[0m \u001b[1m9s\u001b[0m 10ms/step - accuracy: 0.8705 - loss: 0.2967 - val_accuracy: 0.8343 - val_loss: 0.3940 - learning_rate: 1.0000e-05\n",
      "Epoch 6/50\n",
      "\u001b[1m408/851\u001b[0m \u001b[32m━━━━━━━━━\u001b[0m\u001b[37m━━━━━━━━━━━\u001b[0m \u001b[1m6:48\u001b[0m 921ms/step - accuracy: 0.8977 - loss: 0.2453\n",
      "Epoch 6: ReduceLROnPlateau reducing learning rate to 4.999999873689376e-06.\n",
      "\u001b[1m851/851\u001b[0m \u001b[32m━━━━━━━━━━━━━━━━━━━━\u001b[0m\u001b[37m\u001b[0m \u001b[1m8s\u001b[0m 10ms/step - accuracy: 0.8948 - loss: 0.2507 - val_accuracy: 0.8267 - val_loss: 0.4133 - learning_rate: 1.0000e-05\n",
      "Epoch 7/50\n",
      "\u001b[1m851/851\u001b[0m \u001b[32m━━━━━━━━━━━━━━━━━━━━\u001b[0m\u001b[37m\u001b[0m \u001b[1m8s\u001b[0m 10ms/step - accuracy: 0.9153 - loss: 0.2087 - val_accuracy: 0.8323 - val_loss: 0.4205 - learning_rate: 5.0000e-06\n",
      "Epoch 8/50\n",
      "\u001b[1m851/851\u001b[0m \u001b[32m━━━━━━━━━━━━━━━━━━━━\u001b[0m\u001b[37m\u001b[0m \u001b[1m8s\u001b[0m 10ms/step - accuracy: 0.9324 - loss: 0.1806 - val_accuracy: 0.8379 - val_loss: 0.4214 - learning_rate: 5.0000e-06\n",
      "Epoch 9/50\n",
      "\u001b[1m435/851\u001b[0m \u001b[32m━━━━━━━━━━\u001b[0m\u001b[37m━━━━━━━━━━\u001b[0m \u001b[1m5:59\u001b[0m 864ms/step - accuracy: 0.9345 - loss: 0.1635\n",
      "Epoch 9: ReduceLROnPlateau reducing learning rate to 2.499999936844688e-06.\n",
      "\u001b[1m851/851\u001b[0m \u001b[32m━━━━━━━━━━━━━━━━━━━━\u001b[0m\u001b[37m\u001b[0m \u001b[1m8s\u001b[0m 10ms/step - accuracy: 0.9356 - loss: 0.1645 - val_accuracy: 0.8382 - val_loss: 0.4351 - learning_rate: 5.0000e-06\n",
      "Epoch 10/50\n",
      "\u001b[1m851/851\u001b[0m \u001b[32m━━━━━━━━━━━━━━━━━━━━\u001b[0m\u001b[37m\u001b[0m \u001b[1m8s\u001b[0m 9ms/step - accuracy: 0.9478 - loss: 0.1428 - val_accuracy: 0.8449 - val_loss: 0.4344 - learning_rate: 2.5000e-06\n",
      "Epoch 11/50\n",
      "\u001b[1m851/851\u001b[0m \u001b[32m━━━━━━━━━━━━━━━━━━━━\u001b[0m\u001b[37m\u001b[0m \u001b[1m8s\u001b[0m 9ms/step - accuracy: 0.9500 - loss: 0.1341 - val_accuracy: 0.8452 - val_loss: 0.4465 - learning_rate: 2.5000e-06\n",
      "Epoch 12/50\n",
      "\u001b[1m551/851\u001b[0m \u001b[32m━━━━━━━━━━━━\u001b[0m\u001b[37m━━━━━━━━\u001b[0m \u001b[1m3:25\u001b[0m 684ms/step - accuracy: 0.9508 - loss: 0.1282\n",
      "Epoch 12: ReduceLROnPlateau reducing learning rate to 1.249999968422344e-06.\n",
      "\u001b[1m851/851\u001b[0m \u001b[32m━━━━━━━━━━━━━━━━━━━━\u001b[0m\u001b[37m\u001b[0m \u001b[1m8s\u001b[0m 10ms/step - accuracy: 0.9511 - loss: 0.1273 - val_accuracy: 0.8399 - val_loss: 0.4602 - learning_rate: 2.5000e-06\n",
      "Epoch 13/50\n",
      "\u001b[1m851/851\u001b[0m \u001b[32m━━━━━━━━━━━━━━━━━━━━\u001b[0m\u001b[37m\u001b[0m \u001b[1m8s\u001b[0m 10ms/step - accuracy: 0.9542 - loss: 0.1223 - val_accuracy: 0.8449 - val_loss: 0.4652 - learning_rate: 1.2500e-06\n",
      "Epoch 14/50\n",
      "\u001b[1m851/851\u001b[0m \u001b[32m━━━━━━━━━━━━━━━━━━━━\u001b[0m\u001b[37m\u001b[0m \u001b[1m8s\u001b[0m 10ms/step - accuracy: 0.9599 - loss: 0.1127 - val_accuracy: 0.8452 - val_loss: 0.4611 - learning_rate: 1.2500e-06\n",
      "Epoch 15/50\n",
      "\u001b[1m541/851\u001b[0m \u001b[32m━━━━━━━━━━━━\u001b[0m\u001b[37m━━━━━━━━\u001b[0m \u001b[1m3:35\u001b[0m 696ms/step - accuracy: 0.9626 - loss: 0.1098\n",
      "Epoch 15: ReduceLROnPlateau reducing learning rate to 6.24999984211172e-07.\n",
      "\u001b[1m851/851\u001b[0m \u001b[32m━━━━━━━━━━━━━━━━━━━━\u001b[0m\u001b[37m\u001b[0m \u001b[1m8s\u001b[0m 10ms/step - accuracy: 0.9623 - loss: 0.1096 - val_accuracy: 0.8422 - val_loss: 0.4758 - learning_rate: 1.2500e-06\n",
      "Epoch 16/50\n",
      "\u001b[1m851/851\u001b[0m \u001b[32m━━━━━━━━━━━━━━━━━━━━\u001b[0m\u001b[37m\u001b[0m \u001b[1m8s\u001b[0m 9ms/step - accuracy: 0.9634 - loss: 0.1062 - val_accuracy: 0.8442 - val_loss: 0.4748 - learning_rate: 6.2500e-07\n",
      "Epoch 17/50\n",
      "\u001b[1m851/851\u001b[0m \u001b[32m━━━━━━━━━━━━━━━━━━━━\u001b[0m\u001b[37m\u001b[0m \u001b[1m8s\u001b[0m 10ms/step - accuracy: 0.9637 - loss: 0.1044 - val_accuracy: 0.8449 - val_loss: 0.4769 - learning_rate: 6.2500e-07\n",
      "Epoch 18/50\n",
      "\u001b[1m664/851\u001b[0m \u001b[32m━━━━━━━━━━━━━━━\u001b[0m\u001b[37m━━━━━\u001b[0m \u001b[1m1:46\u001b[0m 568ms/step - accuracy: 0.9617 - loss: 0.1061\n",
      "Epoch 18: ReduceLROnPlateau reducing learning rate to 3.12499992105586e-07.\n",
      "\u001b[1m851/851\u001b[0m \u001b[32m━━━━━━━━━━━━━━━━━━━━\u001b[0m\u001b[37m\u001b[0m \u001b[1m8s\u001b[0m 9ms/step - accuracy: 0.9621 - loss: 0.1059 - val_accuracy: 0.8468 - val_loss: 0.4774 - learning_rate: 6.2500e-07\n",
      "Epoch 19/50\n",
      "\u001b[1m851/851\u001b[0m \u001b[32m━━━━━━━━━━━━━━━━━━━━\u001b[0m\u001b[37m\u001b[0m \u001b[1m8s\u001b[0m 9ms/step - accuracy: 0.9650 - loss: 0.1009 - val_accuracy: 0.8452 - val_loss: 0.4775 - learning_rate: 3.1250e-07\n",
      "Epoch 20/50\n",
      "\u001b[1m851/851\u001b[0m \u001b[32m━━━━━━━━━━━━━━━━━━━━\u001b[0m\u001b[37m\u001b[0m \u001b[1m8s\u001b[0m 10ms/step - accuracy: 0.9671 - loss: 0.0984 - val_accuracy: 0.8449 - val_loss: 0.4799 - learning_rate: 3.1250e-07\n",
      "Epoch 21/50\n",
      "\u001b[1m776/851\u001b[0m \u001b[32m━━━━━━━━━━━━━━━━━━\u001b[0m\u001b[37m━━\u001b[0m \u001b[1m36s\u001b[0m 487ms/step - accuracy: 0.9666 - loss: 0.0977\n",
      "Epoch 21: ReduceLROnPlateau reducing learning rate to 1.56249996052793e-07.\n",
      "\u001b[1m851/851\u001b[0m \u001b[32m━━━━━━━━━━━━━━━━━━━━\u001b[0m\u001b[37m\u001b[0m \u001b[1m8s\u001b[0m 9ms/step - accuracy: 0.9665 - loss: 0.0978 - val_accuracy: 0.8429 - val_loss: 0.4841 - learning_rate: 3.1250e-07\n",
      "Epoch 22/50\n",
      "\u001b[1m851/851\u001b[0m \u001b[32m━━━━━━━━━━━━━━━━━━━━\u001b[0m\u001b[37m\u001b[0m \u001b[1m9s\u001b[0m 10ms/step - accuracy: 0.9659 - loss: 0.0998 - val_accuracy: 0.8435 - val_loss: 0.4826 - learning_rate: 1.5625e-07\n",
      "Epoch 23/50\n",
      "\u001b[1m851/851\u001b[0m \u001b[32m━━━━━━━━━━━━━━━━━━━━\u001b[0m\u001b[37m\u001b[0m \u001b[1m9s\u001b[0m 10ms/step - accuracy: 0.9682 - loss: 0.0939 - val_accuracy: 0.8429 - val_loss: 0.4862 - learning_rate: 1.5625e-07\n",
      "Epoch 24/50\n",
      "\u001b[1m682/851\u001b[0m \u001b[32m━━━━━━━━━━━━━━━━\u001b[0m\u001b[37m━━━━\u001b[0m \u001b[1m1:33\u001b[0m 554ms/step - accuracy: 0.9703 - loss: 0.0902\n",
      "Epoch 24: ReduceLROnPlateau reducing learning rate to 7.81249980263965e-08.\n",
      "\u001b[1m851/851\u001b[0m \u001b[32m━━━━━━━━━━━━━━━━━━━━\u001b[0m\u001b[37m\u001b[0m \u001b[1m8s\u001b[0m 9ms/step - accuracy: 0.9700 - loss: 0.0907 - val_accuracy: 0.8429 - val_loss: 0.4867 - learning_rate: 1.5625e-07\n",
      "Epoch 25/50\n",
      "\u001b[1m851/851\u001b[0m \u001b[32m━━━━━━━━━━━━━━━━━━━━\u001b[0m\u001b[37m\u001b[0m \u001b[1m8s\u001b[0m 10ms/step - accuracy: 0.9677 - loss: 0.0952 - val_accuracy: 0.8439 - val_loss: 0.4844 - learning_rate: 7.8125e-08\n",
      "Epoch 26/50\n",
      "\u001b[1m851/851\u001b[0m \u001b[32m━━━━━━━━━━━━━━━━━━━━\u001b[0m\u001b[37m\u001b[0m \u001b[1m8s\u001b[0m 10ms/step - accuracy: 0.9674 - loss: 0.0961 - val_accuracy: 0.8432 - val_loss: 0.4874 - learning_rate: 7.8125e-08\n",
      "Epoch 27/50\n",
      "\u001b[1m668/851\u001b[0m \u001b[32m━━━━━━━━━━━━━━━\u001b[0m\u001b[37m━━━━━\u001b[0m \u001b[1m1:43\u001b[0m 566ms/step - accuracy: 0.9674 - loss: 0.0955\n",
      "Epoch 27: ReduceLROnPlateau reducing learning rate to 3.906249901319825e-08.\n",
      "\u001b[1m851/851\u001b[0m \u001b[32m━━━━━━━━━━━━━━━━━━━━\u001b[0m\u001b[37m\u001b[0m \u001b[1m9s\u001b[0m 10ms/step - accuracy: 0.9672 - loss: 0.0954 - val_accuracy: 0.8442 - val_loss: 0.4835 - learning_rate: 7.8125e-08\n",
      "Epoch 28/50\n",
      "\u001b[1m851/851\u001b[0m \u001b[32m━━━━━━━━━━━━━━━━━━━━\u001b[0m\u001b[37m\u001b[0m \u001b[1m8s\u001b[0m 9ms/step - accuracy: 0.9672 - loss: 0.0965 - val_accuracy: 0.8435 - val_loss: 0.4839 - learning_rate: 3.9062e-08\n",
      "Epoch 29/50\n",
      "\u001b[1m851/851\u001b[0m \u001b[32m━━━━━━━━━━━━━━━━━━━━\u001b[0m\u001b[37m\u001b[0m \u001b[1m8s\u001b[0m 10ms/step - accuracy: 0.9680 - loss: 0.0924 - val_accuracy: 0.8432 - val_loss: 0.4854 - learning_rate: 3.9062e-08\n",
      "Epoch 30/50\n",
      "\u001b[1m754/851\u001b[0m \u001b[32m━━━━━━━━━━━━━━━━━\u001b[0m\u001b[37m━━━\u001b[0m \u001b[1m48s\u001b[0m 501ms/step - accuracy: 0.9662 - loss: 0.0969\n",
      "Epoch 30: ReduceLROnPlateau reducing learning rate to 1.9531249506599124e-08.\n",
      "\u001b[1m851/851\u001b[0m \u001b[32m━━━━━━━━━━━━━━━━━━━━\u001b[0m\u001b[37m\u001b[0m \u001b[1m8s\u001b[0m 9ms/step - accuracy: 0.9662 - loss: 0.0968 - val_accuracy: 0.8432 - val_loss: 0.4845 - learning_rate: 3.9062e-08\n",
      "Epoch 31/50\n",
      "\u001b[1m851/851\u001b[0m \u001b[32m━━━━━━━━━━━━━━━━━━━━\u001b[0m\u001b[37m\u001b[0m \u001b[1m10s\u001b[0m 12ms/step - accuracy: 0.9678 - loss: 0.0935 - val_accuracy: 0.8422 - val_loss: 0.4896 - learning_rate: 1.9531e-08\n",
      "Epoch 32/50\n",
      "\u001b[1m851/851\u001b[0m \u001b[32m━━━━━━━━━━━━━━━━━━━━\u001b[0m\u001b[37m\u001b[0m \u001b[1m9s\u001b[0m 10ms/step - accuracy: 0.9667 - loss: 0.0927 - val_accuracy: 0.8439 - val_loss: 0.4856 - learning_rate: 1.9531e-08\n",
      "Epoch 33/50\n",
      "\u001b[1m848/851\u001b[0m \u001b[32m━━━━━━━━━━━━━━━━━━━\u001b[0m\u001b[37m━\u001b[0m \u001b[1m1s\u001b[0m 447ms/step - accuracy: 0.9662 - loss: 0.1007\n",
      "Epoch 33: ReduceLROnPlateau reducing learning rate to 9.765624753299562e-09.\n",
      "\u001b[1m851/851\u001b[0m \u001b[32m━━━━━━━━━━━━━━━━━━━━\u001b[0m\u001b[37m\u001b[0m \u001b[1m380s\u001b[0m 447ms/step - accuracy: 0.9662 - loss: 0.1007 - val_accuracy: 0.8442 - val_loss: 0.4873 - learning_rate: 1.9531e-08\n",
      "Epoch 34/50\n",
      "\u001b[1m851/851\u001b[0m \u001b[32m━━━━━━━━━━━━━━━━━━━━\u001b[0m\u001b[37m\u001b[0m \u001b[1m-364s\u001b[0m -427820us/step - accuracy: 0.9685 - loss: 0.0942 - val_accuracy: 0.8429 - val_loss: 0.4851 - learning_rate: 9.7656e-09\n",
      "Epoch 35/50\n",
      "\u001b[1m851/851\u001b[0m \u001b[32m━━━━━━━━━━━━━━━━━━━━\u001b[0m\u001b[37m\u001b[0m \u001b[1m8s\u001b[0m 10ms/step - accuracy: 0.9663 - loss: 0.0939 - val_accuracy: 0.8442 - val_loss: 0.4841 - learning_rate: 9.7656e-09\n",
      "Epoch 36/50\n",
      "\u001b[1m644/851\u001b[0m \u001b[32m━━━━━━━━━━━━━━━\u001b[0m\u001b[37m━━━━━\u001b[0m \u001b[1m2:01\u001b[0m 586ms/step - accuracy: 0.9677 - loss: 0.0936\n",
      "Epoch 36: ReduceLROnPlateau reducing learning rate to 4.882812376649781e-09.\n",
      "\u001b[1m851/851\u001b[0m \u001b[32m━━━━━━━━━━━━━━━━━━━━\u001b[0m\u001b[37m\u001b[0m \u001b[1m8s\u001b[0m 10ms/step - accuracy: 0.9676 - loss: 0.0939 - val_accuracy: 0.8435 - val_loss: 0.4858 - learning_rate: 9.7656e-09\n",
      "Epoch 37/50\n",
      "\u001b[1m851/851\u001b[0m \u001b[32m━━━━━━━━━━━━━━━━━━━━\u001b[0m\u001b[37m\u001b[0m \u001b[1m8s\u001b[0m 9ms/step - accuracy: 0.9670 - loss: 0.0935 - val_accuracy: 0.8439 - val_loss: 0.4848 - learning_rate: 4.8828e-09\n",
      "Epoch 38/50\n",
      "\u001b[1m851/851\u001b[0m \u001b[32m━━━━━━━━━━━━━━━━━━━━\u001b[0m\u001b[37m\u001b[0m \u001b[1m9s\u001b[0m 10ms/step - accuracy: 0.9679 - loss: 0.0926 - val_accuracy: 0.8429 - val_loss: 0.4870 - learning_rate: 4.8828e-09\n",
      "Epoch 39/50\n",
      "\u001b[1m696/851\u001b[0m \u001b[32m━━━━━━━━━━━━━━━━\u001b[0m\u001b[37m━━━━\u001b[0m \u001b[1m1:24\u001b[0m 542ms/step - accuracy: 0.9682 - loss: 0.0910\n",
      "Epoch 39: ReduceLROnPlateau reducing learning rate to 2.4414061883248905e-09.\n",
      "\u001b[1m851/851\u001b[0m \u001b[32m━━━━━━━━━━━━━━━━━━━━\u001b[0m\u001b[37m\u001b[0m \u001b[1m8s\u001b[0m 9ms/step - accuracy: 0.9685 - loss: 0.0911 - val_accuracy: 0.8435 - val_loss: 0.4866 - learning_rate: 4.8828e-09\n",
      "Epoch 40/50\n",
      "\u001b[1m851/851\u001b[0m \u001b[32m━━━━━━━━━━━━━━━━━━━━\u001b[0m\u001b[37m\u001b[0m \u001b[1m8s\u001b[0m 9ms/step - accuracy: 0.9663 - loss: 0.0963 - val_accuracy: 0.8445 - val_loss: 0.4851 - learning_rate: 2.4414e-09\n",
      "Epoch 41/50\n",
      "\u001b[1m851/851\u001b[0m \u001b[32m━━━━━━━━━━━━━━━━━━━━\u001b[0m\u001b[37m\u001b[0m \u001b[1m8s\u001b[0m 10ms/step - accuracy: 0.9660 - loss: 0.0938 - val_accuracy: 0.8445 - val_loss: 0.4826 - learning_rate: 2.4414e-09\n",
      "Epoch 42/50\n",
      "\u001b[1m817/851\u001b[0m \u001b[32m━━━━━━━━━━━━━━━━━━━\u001b[0m\u001b[37m━\u001b[0m \u001b[1m15s\u001b[0m 463ms/step - accuracy: 0.9676 - loss: 0.0938\n",
      "Epoch 42: ReduceLROnPlateau reducing learning rate to 1.2207030941624453e-09.\n",
      "\u001b[1m851/851\u001b[0m \u001b[32m━━━━━━━━━━━━━━━━━━━━\u001b[0m\u001b[37m\u001b[0m \u001b[1m8s\u001b[0m 9ms/step - accuracy: 0.9676 - loss: 0.0938 - val_accuracy: 0.8429 - val_loss: 0.4864 - learning_rate: 2.4414e-09\n",
      "Epoch 43/50\n",
      "\u001b[1m851/851\u001b[0m \u001b[32m━━━━━━━━━━━━━━━━━━━━\u001b[0m\u001b[37m\u001b[0m \u001b[1m8s\u001b[0m 10ms/step - accuracy: 0.9707 - loss: 0.0897 - val_accuracy: 0.8449 - val_loss: 0.4840 - learning_rate: 1.2207e-09\n",
      "Epoch 44/50\n",
      "\u001b[1m851/851\u001b[0m \u001b[32m━━━━━━━━━━━━━━━━━━━━\u001b[0m\u001b[37m\u001b[0m \u001b[1m8s\u001b[0m 9ms/step - accuracy: 0.9660 - loss: 0.0952 - val_accuracy: 0.8432 - val_loss: 0.4863 - learning_rate: 1.2207e-09\n",
      "Epoch 45/50\n",
      "\u001b[1m339/851\u001b[0m \u001b[32m━━━━━━━\u001b[0m\u001b[37m━━━━━━━━━━━━━\u001b[0m \u001b[1m9:26\u001b[0m 1s/step - accuracy: 0.9657 - loss: 0.0975 \n",
      "Epoch 45: ReduceLROnPlateau reducing learning rate to 6.103515470812226e-10.\n",
      "\u001b[1m851/851\u001b[0m \u001b[32m━━━━━━━━━━━━━━━━━━━━\u001b[0m\u001b[37m\u001b[0m \u001b[1m8s\u001b[0m 9ms/step - accuracy: 0.9660 - loss: 0.0965 - val_accuracy: 0.8432 - val_loss: 0.4854 - learning_rate: 1.2207e-09\n",
      "Epoch 46/50\n",
      "\u001b[1m851/851\u001b[0m \u001b[32m━━━━━━━━━━━━━━━━━━━━\u001b[0m\u001b[37m\u001b[0m \u001b[1m9s\u001b[0m 11ms/step - accuracy: 0.9671 - loss: 0.0932 - val_accuracy: 0.8449 - val_loss: 0.4840 - learning_rate: 6.1035e-10\n",
      "Epoch 47/50\n",
      "\u001b[1m851/851\u001b[0m \u001b[32m━━━━━━━━━━━━━━━━━━━━\u001b[0m\u001b[37m\u001b[0m \u001b[1m8s\u001b[0m 9ms/step - accuracy: 0.9656 - loss: 0.0964 - val_accuracy: 0.8435 - val_loss: 0.4846 - learning_rate: 6.1035e-10\n",
      "Epoch 48/50\n",
      "\u001b[1m345/851\u001b[0m \u001b[32m━━━━━━━━\u001b[0m\u001b[37m━━━━━━━━━━━━\u001b[0m \u001b[1m9:10\u001b[0m 1s/step - accuracy: 0.9671 - loss: 0.0908\n",
      "Epoch 48: ReduceLROnPlateau reducing learning rate to 3.051757735406113e-10.\n",
      "\u001b[1m851/851\u001b[0m \u001b[32m━━━━━━━━━━━━━━━━━━━━\u001b[0m\u001b[37m\u001b[0m \u001b[1m8s\u001b[0m 9ms/step - accuracy: 0.9670 - loss: 0.0926 - val_accuracy: 0.8435 - val_loss: 0.4852 - learning_rate: 6.1035e-10\n",
      "Epoch 49/50\n",
      "\u001b[1m851/851\u001b[0m \u001b[32m━━━━━━━━━━━━━━━━━━━━\u001b[0m\u001b[37m\u001b[0m \u001b[1m8s\u001b[0m 10ms/step - accuracy: 0.9626 - loss: 0.1012 - val_accuracy: 0.8429 - val_loss: 0.4872 - learning_rate: 3.0518e-10\n",
      "Epoch 50/50\n",
      "\u001b[1m851/851\u001b[0m \u001b[32m━━━━━━━━━━━━━━━━━━━━\u001b[0m\u001b[37m\u001b[0m \u001b[1m8s\u001b[0m 9ms/step - accuracy: 0.9654 - loss: 0.0965 - val_accuracy: 0.8435 - val_loss: 0.4860 - learning_rate: 3.0518e-10\n"
     ]
    }
   ],
   "source": [
    "history = model.fit(\n",
    "    train_generator,\n",
    "    validation_data=validation_generator,\n",
    "    epochs=50,\n",
    "    callbacks=[reduce_lr]\n",
    ")"
   ]
  },
  {
   "cell_type": "code",
   "execution_count": 12,
   "id": "c4954d83",
   "metadata": {},
   "outputs": [],
   "source": [
    "model.save(\"cnn_chest_tall_tuned.keras\")"
   ]
  }
 ],
 "metadata": {
  "kernelspec": {
   "display_name": "nlp",
   "language": "python",
   "name": "python3"
  },
  "language_info": {
   "codemirror_mode": {
    "name": "ipython",
    "version": 3
   },
   "file_extension": ".py",
   "mimetype": "text/x-python",
   "name": "python",
   "nbconvert_exporter": "python",
   "pygments_lexer": "ipython3",
   "version": "3.10.12"
  }
 },
 "nbformat": 4,
 "nbformat_minor": 5
}
