{
  "cells": [
    {
      "cell_type": "code",
      "execution_count": null,
      "id": "4e5276f2",
      "metadata": {
        "colab": {
          "base_uri": "https://localhost:8080/"
        },
        "id": "4e5276f2",
        "outputId": "bb4081d9-c316-405f-9c72-9410a505747a"
      },
      "outputs": [],
      "source": [
        "!pip install kaggle --quiet\n",
        "\n",
        "import os\n",
        "os.environ['KAGGLE_CONFIG_DIR'] = \"~/.kaggle\"  # Update this path if needed\n",
        "\n",
        "# I had to do this because it wasn't seeing my kaggle.json\n",
        "os.environ['KAGGLE_USERNAME'] = ''\n",
        "os.environ['KAGGLE_KEY'] = ''\n",
        "\n",
        "!kaggle competitions download -c rsna-pneumonia-detection-challenge\n",
        "\n",
        "import zipfile\n",
        "with zipfile.ZipFile('rsna-pneumonia-detection-challenge.zip', 'r') as zip_ref:\n",
        "    zip_ref.extractall('rsna_data')\n",
        "\n",
        "import os\n",
        "os.listdir('rsna_data')"
      ]
    },
    {
      "cell_type": "code",
      "execution_count": 1,
      "id": "I4lUlmW42jAf",
      "metadata": {
        "colab": {
          "base_uri": "https://localhost:8080/"
        },
        "id": "I4lUlmW42jAf",
        "outputId": "d3769349-668f-4d0f-8ede-16ac33b643e1"
      },
      "outputs": [
        {
          "ename": "ModuleNotFoundError",
          "evalue": "No module named 'tensorflow'",
          "output_type": "error",
          "traceback": [
            "\u001b[1;31m---------------------------------------------------------------------------\u001b[0m",
            "\u001b[1;31mModuleNotFoundError\u001b[0m                       Traceback (most recent call last)",
            "Cell \u001b[1;32mIn[1], line 2\u001b[0m\n\u001b[0;32m      1\u001b[0m \u001b[38;5;66;03m# !pip install pydicom\u001b[39;00m\n\u001b[1;32m----> 2\u001b[0m \u001b[38;5;28;01mimport\u001b[39;00m \u001b[38;5;21;01mtensorflow\u001b[39;00m \u001b[38;5;28;01mas\u001b[39;00m \u001b[38;5;21;01mtf\u001b[39;00m\n\u001b[0;32m      3\u001b[0m \u001b[38;5;28mprint\u001b[39m(\u001b[38;5;124m\"\u001b[39m\u001b[38;5;124mNum GPUs Available: \u001b[39m\u001b[38;5;124m\"\u001b[39m, \u001b[38;5;28mlen\u001b[39m(tf\u001b[38;5;241m.\u001b[39mconfig\u001b[38;5;241m.\u001b[39mlist_physical_devices(\u001b[38;5;124m'\u001b[39m\u001b[38;5;124mGPU\u001b[39m\u001b[38;5;124m'\u001b[39m)))\n",
            "\u001b[1;31mModuleNotFoundError\u001b[0m: No module named 'tensorflow'"
          ]
        }
      ],
      "source": [
        "# !pip install pydicom\n",
        "import tensorflow as tf\n",
        "print(\"Num GPUs Available: \", len(tf.config.list_physical_devices('GPU')))\n"
      ]
    },
    {
      "cell_type": "code",
      "execution_count": 3,
      "id": "3787cc64",
      "metadata": {
        "id": "3787cc64"
      },
      "outputs": [],
      "source": [
        "import os\n",
        "import numpy as np\n",
        "import pandas as pd\n",
        "import pydicom\n",
        "from sklearn.model_selection import train_test_split\n",
        "import tensorflow as tf\n",
        "from tensorflow.keras.preprocessing.image import ImageDataGenerator\n",
        "from tensorflow.keras.applications import MobileNetV2\n",
        "from tensorflow.keras.applications import ResNet50\n",
        "from tensorflow.keras import layers, models\n",
        "import cv2\n",
        "\n",
        "data_dir = './rsna_data/stage_2_train_images'\n",
        "labels_df = pd.read_csv('./rsna_data/stage_2_train_labels.csv')\n",
        "\n",
        "def load_dicom_image(image_path):\n",
        "    dicom_data = pydicom.dcmread(image_path)\n",
        "\n",
        "    image = dicom_data.pixel_array\n",
        "\n",
        "    if len(image.shape) == 2:\n",
        "        image = np.stack([image] * 3, axis=-1)  # Convert grayscale to RGB\n",
        "\n",
        "    image = cv2.resize(image, (224, 224))\n",
        "\n",
        "    image = image / 255.0\n",
        "\n",
        "    image = (image * 255).astype(np.uint8)\n",
        "\n",
        "    return image\n",
        "\n",
        "images = []\n",
        "labels = []\n",
        "for idx, row in labels_df.iterrows():\n",
        "    image_path = os.path.join(data_dir, f'{row[\"patientId\"]}.dcm')\n",
        "    images.append(load_dicom_image(image_path))\n",
        "    labels.append(row[\"Target\"])\n",
        "\n",
        "images = np.array(images)\n",
        "labels = np.array(labels)\n"
      ]
    },
    {
      "cell_type": "code",
      "execution_count": 4,
      "id": "165bb043",
      "metadata": {
        "id": "165bb043"
      },
      "outputs": [
        {
          "ename": "",
          "evalue": "",
          "output_type": "error",
          "traceback": [
            "\u001b[1;31mThe Kernel crashed while executing code in the current cell or a previous cell. \n",
            "\u001b[1;31mPlease review the code in the cell(s) to identify a possible cause of the failure. \n",
            "\u001b[1;31mClick <a href='https://aka.ms/vscodeJupyterKernelCrash'>here</a> for more info. \n",
            "\u001b[1;31mView Jupyter <a href='command:jupyter.viewOutput'>log</a> for further details."
          ]
        }
      ],
      "source": [
        "\n",
        "X_train, X_val, y_train, y_val = train_test_split(images, labels, test_size=0.2, random_state=42)\n",
        "\n",
        "'''train_datagen = ImageDataGenerator(\n",
        "    rescale=1./255,\n",
        "    shear_range=0.2,\n",
        "    zoom_range=0.2,\n",
        "    horizontal_flip=True\n",
        ")'''\n",
        "train_datagen = ImageDataGenerator(rescale=1./255)\n",
        "\n",
        "val_datagen = ImageDataGenerator(rescale=1./255)\n",
        "\n",
        "train_generator = train_datagen.flow(X_train, y_train, batch_size=32)\n",
        "validation_generator = val_datagen.flow(X_val, y_val, batch_size=32)\n"
      ]
    },
    {
      "cell_type": "code",
      "execution_count": null,
      "id": "f988b855",
      "metadata": {
        "id": "f988b855"
      },
      "outputs": [],
      "source": [
        "\n",
        "from tensorflow.keras.models import Model\n",
        "from tensorflow.keras.layers import GlobalAveragePooling2D, Dense, Dropout\n",
        "from tensorflow.keras.layers import Input\n",
        "inputs = Input(shape=(224, 224, 3))\n",
        "\n",
        "\n",
        "x = inputs\n",
        "base_model = ResNet50(weights='imagenet', include_top=False, input_shape=(224, 224, 3))\n",
        "\n",
        "base_model.trainable = False\n",
        "x = base_model(x, training=False)\n",
        "\n",
        "# Custom classification head\n",
        "x = GlobalAveragePooling2D()(x)\n",
        "x = Dense(1024, activation='relu')(x)\n",
        "x = Dropout(0.5)(x)\n",
        "x = Dense(512, activation='relu')(x)\n",
        "x = Dropout(0.3)(x)\n",
        "x = Dense(256, activation='relu')(x)\n",
        "x = Dropout(0.2)(x)\n",
        "outputs = Dense(1, activation='sigmoid')(x)\n",
        "\n",
        "model = Model(inputs, outputs)\n"
      ]
    },
    {
      "cell_type": "code",
      "execution_count": null,
      "id": "1a674e29",
      "metadata": {
        "id": "1a674e29"
      },
      "outputs": [],
      "source": [
        "\n",
        "from tensorflow.keras.optimizers import Adam\n",
        "model.compile(\n",
        "    optimizer=Adam(learning_rate=1e-4),\n",
        "    loss='binary_crossentropy',\n",
        "\tmetrics=['accuracy']\n",
        ")"
      ]
    },
    {
      "cell_type": "code",
      "execution_count": null,
      "id": "342cbb99",
      "metadata": {
        "id": "342cbb99",
        "outputId": "47565acc-af95-4217-cb4e-72f6c95c1b49"
      },
      "outputs": [],
      "source": [
        "from tensorflow.keras import callbacks\n",
        "# --- TRAINING ---\n",
        "early_stop = callbacks.EarlyStopping(patience=5, restore_best_weights=True, min_delta=0.001, monitor='accuracy', mode='max')\n",
        "reduce_lr = callbacks.ReduceLROnPlateau(patience=3, factor=0.5, verbose=1)\n",
        "history = model.fit(\n",
        "    train_generator,\n",
        "    validation_data=validation_generator,\n",
        "    epochs=50,\n",
        "    callbacks=[early_stop]\n",
        ")"
      ]
    },
    {
      "cell_type": "code",
      "execution_count": null,
      "id": "5354b010",
      "metadata": {
        "id": "5354b010"
      },
      "outputs": [],
      "source": [
        "model.save(\"cnn_chest_pretune_resnet.keras\")\n",
        "from tensorflow.keras.models import load_model\n",
        "#model = load_model(\"cnn_chest_pretune.keras\")\n",
        "base_model.trainable = True"
      ]
    },
    {
      "cell_type": "code",
      "execution_count": null,
      "id": "531dfd33",
      "metadata": {
        "id": "531dfd33"
      },
      "outputs": [],
      "source": [
        "classifier_head_weights = [layer.get_weights() for layer in model.layers[-8:]]\n"
      ]
    },
    {
      "cell_type": "code",
      "execution_count": null,
      "id": "be972a52",
      "metadata": {
        "id": "be972a52"
      },
      "outputs": [],
      "source": [
        "model.compile(\n",
        "    optimizer=tf.keras.optimizers.Adam(learning_rate=1e-5),\n",
        "    loss='binary_crossentropy',\n",
        "    #metrics=[AUC(multi_label=True)]\n",
        "\tmetrics=['accuracy']\n",
        ")"
      ]
    },
    {
      "cell_type": "code",
      "execution_count": null,
      "id": "54eceeec",
      "metadata": {
        "id": "54eceeec"
      },
      "outputs": [],
      "source": [
        "\n",
        "for i, layer in enumerate(model.layers[-8:]):\n",
        "    layer.set_weights(classifier_head_weights[i])"
      ]
    },
    {
      "cell_type": "code",
      "execution_count": null,
      "id": "51c252bb",
      "metadata": {
        "id": "51c252bb",
        "outputId": "fc11a904-6c71-45b1-e742-cf855472d517"
      },
      "outputs": [],
      "source": [
        "history = model.fit(\n",
        "    train_generator,\n",
        "    validation_data=validation_generator,\n",
        "    epochs=50,\n",
        "    callbacks=[early_stop, reduce_lr]\n",
        ")"
      ]
    }
  ],
  "metadata": {
    "accelerator": "GPU",
    "colab": {
      "gpuType": "T4",
      "provenance": []
    },
    "kernelspec": {
      "display_name": "Python 3",
      "language": "python",
      "name": "python3"
    },
    "language_info": {
      "codemirror_mode": {
        "name": "ipython",
        "version": 3
      },
      "file_extension": ".py",
      "mimetype": "text/x-python",
      "name": "python",
      "nbconvert_exporter": "python",
      "pygments_lexer": "ipython3",
      "version": "3.11.9"
    }
  },
  "nbformat": 4,
  "nbformat_minor": 5
}
